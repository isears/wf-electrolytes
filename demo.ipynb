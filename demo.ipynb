{
 "cells": [
  {
   "cell_type": "code",
   "execution_count": 2,
   "metadata": {},
   "outputs": [
    {
     "name": "stderr",
     "output_type": "stream",
     "text": [
      "/tmp/ipykernel_3828456/2593620837.py:4: TqdmExperimentalWarning: Using `tqdm.autonotebook.tqdm` in notebook mode. Use `tqdm.tqdm` instead to force console mode (e.g. in jupyter console)\n",
      "  from tqdm.autonotebook import tqdm\n"
     ]
    }
   ],
   "source": [
    "from wflytes.dataProcessing.wfFetcher import WfFetcher\n",
    "import seaborn as sns\n",
    "import datetime\n",
    "from tqdm.autonotebook import tqdm\n",
    "tqdm.pandas()\n",
    "import pandas as pd\n",
    "\n",
    "wff = WfFetcher()"
   ]
  },
  {
   "attachments": {},
   "cell_type": "markdown",
   "metadata": {},
   "source": [
    "# Demonstrate Waveform Fetcher"
   ]
  },
  {
   "cell_type": "code",
   "execution_count": 3,
   "metadata": {},
   "outputs": [
    {
     "data": {
      "application/vnd.jupyter.widget-view+json": {
       "model_id": "20a5ce4ab4df482681eca58df155cdda",
       "version_major": 2,
       "version_minor": 0
      },
      "text/plain": [
       "  0%|          | 0/1000 [00:00<?, ?it/s]"
      ]
     },
     "metadata": {},
     "output_type": "display_data"
    },
    {
     "data": {
      "text/plain": [
       "30958    162679\n",
       "58227    105248\n",
       "53305    142378\n",
       "42417    164990\n",
       "45106    164981\n",
       "          ...  \n",
       "51889    149931\n",
       "53260    154008\n",
       "55615    173023\n",
       "10799    103171\n",
       "15095    146430\n",
       "Name: HADM_ID, Length: 156, dtype: int64"
      ]
     },
     "execution_count": 3,
     "metadata": {},
     "output_type": "execute_result"
    }
   ],
   "source": [
    "# What hadms are available for sampling?\n",
    "wf_name = \"II\"\n",
    "admissions = pd.read_csv(\"mimiciii/ADMISSIONS.csv\").sample(100)\n",
    "admissions['wf_available'] = admissions['HADM_ID'].progress_apply(lambda h: wff.precheck_hadm_has_data(h, wf_name))\n",
    "admissions[admissions['wf_available']]['HADM_ID']"
   ]
  },
  {
   "cell_type": "code",
   "execution_count": 6,
   "metadata": {},
   "outputs": [
    {
     "ename": "TypeError",
     "evalue": "get_wf_anyinterval() got an unexpected keyword argument 'latest'",
     "output_type": "error",
     "traceback": [
      "\u001b[0;31m---------------------------------------------------------------------------\u001b[0m",
      "\u001b[0;31mTypeError\u001b[0m                                 Traceback (most recent call last)",
      "\u001b[1;32m/home/isears/Repos/wf-electrolytes/demo.ipynb Cell 4\u001b[0m in \u001b[0;36m<module>\u001b[0;34m\u001b[0m\n\u001b[1;32m      <a href='vscode-notebook-cell://ssh-remote%2B7b22686f73744e616d65223a2248657261227d/home/isears/Repos/wf-electrolytes/demo.ipynb#W3sdnNjb2RlLXJlbW90ZQ%3D%3D?line=0'>1</a>\u001b[0m sample_hadm_id \u001b[39m=\u001b[39m \u001b[39m142691\u001b[39m\n\u001b[0;32m----> <a href='vscode-notebook-cell://ssh-remote%2B7b22686f73744e616d65223a2248657261227d/home/isears/Repos/wf-electrolytes/demo.ipynb#W3sdnNjb2RlLXJlbW90ZQ%3D%3D?line=1'>2</a>\u001b[0m sample_ii \u001b[39m=\u001b[39m wff\u001b[39m.\u001b[39;49mget_wf_anyinterval(sample_hadm_id, wf_name, datetime\u001b[39m.\u001b[39;49mtimedelta(minutes\u001b[39m=\u001b[39;49m\u001b[39m5\u001b[39;49m), latest\u001b[39m=\u001b[39;49m\u001b[39mTrue\u001b[39;49;00m)\n\u001b[1;32m      <a href='vscode-notebook-cell://ssh-remote%2B7b22686f73744e616d65223a2248657261227d/home/isears/Repos/wf-electrolytes/demo.ipynb#W3sdnNjb2RlLXJlbW90ZQ%3D%3D?line=3'>4</a>\u001b[0m plot_size \u001b[39m=\u001b[39m \u001b[39m300\u001b[39m\n\u001b[1;32m      <a href='vscode-notebook-cell://ssh-remote%2B7b22686f73744e616d65223a2248657261227d/home/isears/Repos/wf-electrolytes/demo.ipynb#W3sdnNjb2RlLXJlbW90ZQ%3D%3D?line=4'>5</a>\u001b[0m plottable \u001b[39m=\u001b[39m pd\u001b[39m.\u001b[39mDataFrame(data\u001b[39m=\u001b[39m{\u001b[39m'\u001b[39m\u001b[39mtime\u001b[39m\u001b[39m'\u001b[39m: \u001b[39mrange\u001b[39m(\u001b[39m0\u001b[39m, plot_size), wf_name: sample_ii[\u001b[39m0\u001b[39m:plot_size]})\n",
      "\u001b[0;31mTypeError\u001b[0m: get_wf_anyinterval() got an unexpected keyword argument 'latest'"
     ]
    }
   ],
   "source": [
    "sample_hadm_id = 142691\n",
    "sample_ii = wff.get_wf_anyinterval(sample_hadm_id, wf_name, datetime.timedelta(minutes=5), latest=True)\n",
    "\n",
    "plot_size = 300\n",
    "plottable = pd.DataFrame(data={'time': range(0, plot_size), wf_name: sample_ii[0:plot_size]})\n",
    "sns.lineplot(data=plottable, x='time', y=wf_name)"
   ]
  },
  {
   "cell_type": "code",
   "execution_count": null,
   "metadata": {},
   "outputs": [],
   "source": []
  }
 ],
 "metadata": {
  "kernelspec": {
   "display_name": "tabsep",
   "language": "python",
   "name": "python3"
  },
  "language_info": {
   "codemirror_mode": {
    "name": "ipython",
    "version": 3
   },
   "file_extension": ".py",
   "mimetype": "text/x-python",
   "name": "python",
   "nbconvert_exporter": "python",
   "pygments_lexer": "ipython3",
   "version": "3.8.15"
  },
  "orig_nbformat": 4,
  "vscode": {
   "interpreter": {
    "hash": "1fb66727f8ec7767c0d8d0d9e4e064f1c02699995e93216c7844157557c5778f"
   }
  }
 },
 "nbformat": 4,
 "nbformat_minor": 2
}
